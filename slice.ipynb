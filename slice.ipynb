{
 "cells": [
  {
   "cell_type": "code",
   "execution_count": null,
   "metadata": {},
   "outputs": [],
   "source": [
    "import xarray as xr\n",
    "\n",
    "\n",
    "def slice_raster(\n",
    "    variable: str,\n",
    "    start_datetime: str,\n",
    "    end_datetime: str,\n",
    "    time_resolution: str,  # e.g., \"hour\", \"day\", \"month\", \"year\"\n",
    "    time_agg_method: str,  # e.g., \"mean\", \"max\", \"min\"\n",
    "    min_lat: float,\n",
    "    max_lat: float,\n",
    "    min_lon: float,\n",
    "    max_lon: float,\n",
    "):\n",
    "\n",
    "    file_path = \"/data/era5/raw/2m_temperature/2m_temperature-2023.nc\"\n",
    "    ds = xr.open_dataset(file_path, engine=\"netcdf4\").sel(\n",
    "        time=slice(start_datetime, end_datetime),\n",
    "        latitude=slice(max_lat, min_lat),\n",
    "        longitude=slice(min_lon, max_lon),\n",
    "    )\n",
    "    return ds\n",
    "\n",
    "\n",
    "def ret_html(\n",
    "    # variable: str,\n",
    "    start_datetime: str,\n",
    "    end_datetime: str,\n",
    "    # time_resolution: str,  # e.g., \"hour\", \"day\", \"month\", \"year\"\n",
    "    # time_agg_method: str,  # e.g., \"mean\", \"max\", \"min\"\n",
    "    min_lat: float,\n",
    "    max_lat: float,\n",
    "    min_lon: float,\n",
    "    max_lon: float,\n",
    "):\n",
    "    ds = slice_raster(\n",
    "        variable=\"2m_temperature\",\n",
    "        start_datetime=start_datetime,\n",
    "        end_datetime=end_datetime,\n",
    "        time_resolution=\"hour\",\n",
    "        time_agg_method=\"mean\",\n",
    "        min_lat=min_lat,\n",
    "        max_lat=max_lat,\n",
    "        min_lon=min_lon,\n",
    "        max_lon=max_lon,\n",
    "    )\n",
    "    return ds._repr_html_()"
   ]
  }
 ],
 "metadata": {
  "kernelspec": {
   "display_name": "venv",
   "language": "python",
   "name": "python3"
  },
  "language_info": {
   "codemirror_mode": {
    "name": "ipython",
    "version": 3
   },
   "file_extension": ".py",
   "mimetype": "text/x-python",
   "name": "python",
   "nbconvert_exporter": "python",
   "pygments_lexer": "ipython3",
   "version": "3.11.10"
  }
 },
 "nbformat": 4,
 "nbformat_minor": 2
}
